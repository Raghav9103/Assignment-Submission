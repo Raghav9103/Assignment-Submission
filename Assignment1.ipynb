{
  "nbformat": 4,
  "nbformat_minor": 0,
  "metadata": {
    "colab": {
      "name": "Untitled0.ipynb",
      "provenance": [],
      "collapsed_sections": [],
      "authorship_tag": "ABX9TyOv7/9zI4pfxDNQYcp6SkNq",
      "include_colab_link": true
    },
    "kernelspec": {
      "name": "python3",
      "display_name": "Python 3"
    }
  },
  "cells": [
    {
      "cell_type": "markdown",
      "metadata": {
        "id": "view-in-github",
        "colab_type": "text"
      },
      "source": [
        "<a href=\"https://colab.research.google.com/github/Raghav9103/Assignment-Submission/blob/main/Assignment1.ipynb\" target=\"_parent\"><img src=\"https://colab.research.google.com/assets/colab-badge.svg\" alt=\"Open In Colab\"/></a>"
      ]
    },
    {
      "cell_type": "code",
      "metadata": {
        "id": "Yq1kpm61xmc8"
      },
      "source": [
        "\r\n"
      ],
      "execution_count": null,
      "outputs": []
    },
    {
      "cell_type": "markdown",
      "metadata": {
        "id": "sSqefUld3puU"
      },
      "source": [
        "Day 2 :\r\n",
        "Assignment 1: Do Experiment with 5 List's In-built functions and post it to Github"
      ]
    },
    {
      "cell_type": "code",
      "metadata": {
        "colab": {
          "base_uri": "https://localhost:8080/"
        },
        "id": "ZuKjK4hX30Hg",
        "outputId": "c2244ef8-28e7-4ad4-d214-b3566f3b22bb"
      },
      "source": [
        "lst = [1,2,3,4,\"hello\", \"bye\",['x','y'],\"India\",5, 6.10 ]\r\n",
        "lst"
      ],
      "execution_count": 63,
      "outputs": [
        {
          "output_type": "execute_result",
          "data": {
            "text/plain": [
              "[1, 2, 3, 4, 'hello', 'bye', ['x', 'y'], 'India', 5, 6.1]"
            ]
          },
          "metadata": {
            "tags": []
          },
          "execution_count": 63
        }
      ]
    },
    {
      "cell_type": "code",
      "metadata": {
        "colab": {
          "base_uri": "https://localhost:8080/"
        },
        "id": "aOi5O4Iq-Q2L",
        "outputId": "1c037a05-235e-47e2-ac84-3d3837f6103b"
      },
      "source": [
        "lst.insert(5,1000)\r\n",
        "print(lst)"
      ],
      "execution_count": 64,
      "outputs": [
        {
          "output_type": "stream",
          "text": [
            "[1, 2, 3, 4, 'hello', 1000, 'bye', ['x', 'y'], 'India', 5, 6.1]\n"
          ],
          "name": "stdout"
        }
      ]
    },
    {
      "cell_type": "code",
      "metadata": {
        "colab": {
          "base_uri": "https://localhost:8080/"
        },
        "id": "Gi6RdbkS-Wf9",
        "outputId": "012db318-5257-44bd-d76c-777927604b4d"
      },
      "source": [
        "lst.extend([5,6,\"Python\"])\r\n",
        "print(lst)"
      ],
      "execution_count": 65,
      "outputs": [
        {
          "output_type": "stream",
          "text": [
            "[1, 2, 3, 4, 'hello', 1000, 'bye', ['x', 'y'], 'India', 5, 6.1, 5, 6, 'Python']\n"
          ],
          "name": "stdout"
        }
      ]
    },
    {
      "cell_type": "code",
      "metadata": {
        "colab": {
          "base_uri": "https://localhost:8080/"
        },
        "id": "yxk42kGh-rZ5",
        "outputId": "d9da3418-9cde-4a90-e2f0-5a774434897d"
      },
      "source": [
        "lst.append(\"Hyderabad\")\r\n",
        "print(lst)"
      ],
      "execution_count": 66,
      "outputs": [
        {
          "output_type": "stream",
          "text": [
            "[1, 2, 3, 4, 'hello', 1000, 'bye', ['x', 'y'], 'India', 5, 6.1, 5, 6, 'Python', 'Hyderabad']\n"
          ],
          "name": "stdout"
        }
      ]
    },
    {
      "cell_type": "code",
      "metadata": {
        "colab": {
          "base_uri": "https://localhost:8080/"
        },
        "id": "glg56n_CAU2l",
        "outputId": "25e002be-b2f0-46d1-c17b-59c8bc0a8f9c"
      },
      "source": [
        "lst.pop()\r\n",
        "lst"
      ],
      "execution_count": 68,
      "outputs": [
        {
          "output_type": "execute_result",
          "data": {
            "text/plain": [
              "[1, 2, 3, 4, 'hello', 1000, 'bye', ['x', 'y'], 'India', 5, 6.1, 5, 6, 'Python']"
            ]
          },
          "metadata": {
            "tags": []
          },
          "execution_count": 68
        }
      ]
    },
    {
      "cell_type": "code",
      "metadata": {
        "colab": {
          "base_uri": "https://localhost:8080/"
        },
        "id": "z1LQQjhmAvDM",
        "outputId": "f6dd99b8-4f70-41b5-d03c-49e4ba0146a7"
      },
      "source": [
        "lst.remove('bye')\r\n",
        "lst"
      ],
      "execution_count": 69,
      "outputs": [
        {
          "output_type": "execute_result",
          "data": {
            "text/plain": [
              "[1, 2, 3, 4, 'hello', 1000, ['x', 'y'], 'India', 5, 6.1, 5, 6, 'Python']"
            ]
          },
          "metadata": {
            "tags": []
          },
          "execution_count": 69
        }
      ]
    },
    {
      "cell_type": "markdown",
      "metadata": {
        "id": "SMnnjkRcA3-U"
      },
      "source": [
        "Assignment 2: Do Experiment with 5 Dictionary’s In-Built Functions, and post it to Github"
      ]
    },
    {
      "cell_type": "code",
      "metadata": {
        "colab": {
          "base_uri": "https://localhost:8080/"
        },
        "id": "rz9Pi4nEBAaf",
        "outputId": "037e6bab-5020-47d4-bb0e-70b7b711634c"
      },
      "source": [
        "BioData = {\"Name\":\"Alex\", \"Age\":26, \"Qualification\":\"BTech\", \"DOB\":\"21-11-1994\", \"Loc\":\"Hyderabad\"}\r\n",
        "print(BioData)"
      ],
      "execution_count": 79,
      "outputs": [
        {
          "output_type": "stream",
          "text": [
            "{'Name': 'Alex', 'Age': 26, 'Qualification': 'BTech', 'DOB': '21-11-1994', 'Loc': 'Hyderabad'}\n"
          ],
          "name": "stdout"
        }
      ]
    },
    {
      "cell_type": "code",
      "metadata": {
        "colab": {
          "base_uri": "https://localhost:8080/"
        },
        "id": "66tL0sNUDGMl",
        "outputId": "878ae39b-3f42-49e7-d91a-fc3226c81126"
      },
      "source": [
        "BioData.values()"
      ],
      "execution_count": 80,
      "outputs": [
        {
          "output_type": "execute_result",
          "data": {
            "text/plain": [
              "dict_values(['Alex', 26, 'BTech', '21-11-1994', 'Hyderabad'])"
            ]
          },
          "metadata": {
            "tags": []
          },
          "execution_count": 80
        }
      ]
    },
    {
      "cell_type": "code",
      "metadata": {
        "colab": {
          "base_uri": "https://localhost:8080/"
        },
        "id": "zE3kqLx0DLkt",
        "outputId": "46e91fe1-8162-4b04-a529-d6e0e5fa975d"
      },
      "source": [
        "BioData.keys()"
      ],
      "execution_count": 81,
      "outputs": [
        {
          "output_type": "execute_result",
          "data": {
            "text/plain": [
              "dict_keys(['Name', 'Age', 'Qualification', 'DOB', 'Loc'])"
            ]
          },
          "metadata": {
            "tags": []
          },
          "execution_count": 81
        }
      ]
    },
    {
      "cell_type": "code",
      "metadata": {
        "colab": {
          "base_uri": "https://localhost:8080/"
        },
        "id": "akNCoOmLDPgs",
        "outputId": "945ca66d-1706-4442-8770-808b6c6aaf50"
      },
      "source": [
        "BioData.popitem()\r\n",
        "print(BioData)"
      ],
      "execution_count": 84,
      "outputs": [
        {
          "output_type": "stream",
          "text": [
            "{'Name': 'Alex', 'Age': 26, 'Qualification': 'BTech'}\n"
          ],
          "name": "stdout"
        }
      ]
    },
    {
      "cell_type": "code",
      "metadata": {
        "colab": {
          "base_uri": "https://localhost:8080/"
        },
        "id": "1plIG00ZFXcu",
        "outputId": "93955635-ff3b-4573-e699-a72d0a63f70e"
      },
      "source": [
        "BioData.update({\"Age\":25})\r\n",
        "print(BioData)"
      ],
      "execution_count": 87,
      "outputs": [
        {
          "output_type": "stream",
          "text": [
            "{'Name': 'Alex', 'Age': 25, 'Qualification': 'BTech'}\n"
          ],
          "name": "stdout"
        }
      ]
    },
    {
      "cell_type": "code",
      "metadata": {
        "id": "MKRPjgyxIb66"
      },
      "source": [
        "BioData.clear()"
      ],
      "execution_count": 89,
      "outputs": []
    }
  ]
}