{
  "nbformat": 4,
  "nbformat_minor": 0,
  "metadata": {
    "colab": {
      "name": "Assignment2.ipynb",
      "provenance": [],
      "collapsed_sections": []
    },
    "kernelspec": {
      "name": "python3",
      "display_name": "Python 3"
    }
  },
  "cells": [
    {
      "cell_type": "code",
      "metadata": {
        "id": "sif3akH4totG"
      },
      "source": [
        ""
      ],
      "execution_count": null,
      "outputs": []
    },
    {
      "cell_type": "markdown",
      "metadata": {
        "id": "jEx8UIkZttxB"
      },
      "source": [
        "Q1 : You all are pilots, you have to land a plane, the altitude required for landing a plane is 1000ft, if it\r\n",
        "is less than that tell the pilot to land the plane, or it is more than that but less than 5000ft ask the\r\n",
        "pilot to \"come down to 1000ft\", else if it is more than 5000ft ask the pilot to \"go around and try\r\n",
        "later\""
      ]
    },
    {
      "cell_type": "code",
      "metadata": {
        "colab": {
          "base_uri": "https://localhost:8080/"
        },
        "id": "kxnTCo3IuuSl",
        "outputId": "592b2a0b-8a36-4994-b1ba-4323fcda9a8c"
      },
      "source": [
        "a= 1000\r\n",
        "b=5000\r\n",
        "print (\"WHat is the current Altitude :\")\r\n",
        "x = int(input())\r\n",
        "if x < a:\r\n",
        "  print(\"Safe to land\")\r\n",
        "elif  x >a and x<b:\r\n",
        "  print(\"Bring down to 1000\")\r\n",
        "else:\r\n",
        "  print(\"Turn around and try later to land\")"
      ],
      "execution_count": 27,
      "outputs": [
        {
          "output_type": "stream",
          "text": [
            "WHat is the current Altitude :\n",
            "5100\n",
            "Turn around and try later to land\n"
          ],
          "name": "stdout"
        }
      ]
    }
  ]
}