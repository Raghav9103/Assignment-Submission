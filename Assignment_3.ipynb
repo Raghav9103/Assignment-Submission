{
  "nbformat": 4,
  "nbformat_minor": 0,
  "metadata": {
    "colab": {
      "name": "Assignment 3.ipynb",
      "provenance": [],
      "collapsed_sections": [],
      "authorship_tag": "ABX9TyOcOPWY3CKKHR8AMuB246Ot",
      "include_colab_link": true
    },
    "kernelspec": {
      "name": "python3",
      "display_name": "Python 3"
    }
  },
  "cells": [
    {
      "cell_type": "markdown",
      "metadata": {
        "id": "view-in-github",
        "colab_type": "text"
      },
      "source": [
        "<a href=\"https://colab.research.google.com/github/Raghav9103/Assignment-Submission/blob/main/Assignment_3.ipynb\" target=\"_parent\"><img src=\"https://colab.research.google.com/assets/colab-badge.svg\" alt=\"Open In Colab\"/></a>"
      ]
    },
    {
      "cell_type": "code",
      "metadata": {
        "id": "dhAqoNGLSwA2"
      },
      "source": [
        ""
      ],
      "execution_count": null,
      "outputs": []
    },
    {
      "cell_type": "markdown",
      "metadata": {
        "id": "_6MYuufRSyoX"
      },
      "source": [
        "Assignment 3 Q: Write a function in Python to check whether a number is Prime or not."
      ]
    },
    {
      "cell_type": "markdown",
      "metadata": {
        "id": "NKTOjnrkpMw7"
      },
      "source": [
        "Method 1:\r\n"
      ]
    },
    {
      "cell_type": "code",
      "metadata": {
        "colab": {
          "base_uri": "https://localhost:8080/"
        },
        "id": "safJvwXQPjFM",
        "outputId": "f60526e3-1789-4bec-8d6a-9798c78529fd"
      },
      "source": [
        "def  isPrime():\r\n",
        "  num = int(input(\"Enter a number to check if it's a prime or not : \"))\r\n",
        "  flag = 0\r\n",
        "  if num>1:\r\n",
        "    for i in range (2, num):\r\n",
        "      if(num%i==0):\r\n",
        "        flag=1\r\n",
        "        break\r\n",
        "    if(flag==0):\r\n",
        "      print(num, \"is a prime number\")\r\n",
        "  \r\n",
        "    else:\r\n",
        "      print(num, \"is not a prime number\")\r\n",
        "  else:\r\n",
        "    print(num, \"is not a prime number\")\r\n",
        "isPrime()"
      ],
      "execution_count": 124,
      "outputs": [
        {
          "output_type": "stream",
          "text": [
            "Enter a number to check if it's a prime or not : 233\n",
            "233 is a prime number\n"
          ],
          "name": "stdout"
        }
      ]
    },
    {
      "cell_type": "code",
      "metadata": {
        "id": "USHy8oslk1h4"
      },
      "source": [
        ""
      ],
      "execution_count": null,
      "outputs": []
    }
  ]
}